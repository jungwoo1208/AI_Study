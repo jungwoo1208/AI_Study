{
  "nbformat": 4,
  "nbformat_minor": 0,
  "metadata": {
    "colab": {
      "provenance": [],
      "gpuType": "T4",
      "authorship_tag": "ABX9TyNFNJcG6z4iRjbdGOj3K7Uj",
      "include_colab_link": true
    },
    "kernelspec": {
      "name": "python3",
      "display_name": "Python 3"
    },
    "language_info": {
      "name": "python"
    },
    "accelerator": "GPU"
  },
  "cells": [
    {
      "cell_type": "markdown",
      "metadata": {
        "id": "view-in-github",
        "colab_type": "text"
      },
      "source": [
        "<a href=\"https://colab.research.google.com/github/jungwoo1208/AI_Study/blob/main/softmax_regression.ipynb\" target=\"_parent\"><img src=\"https://colab.research.google.com/assets/colab-badge.svg\" alt=\"Open In Colab\"/></a>"
      ]
    },
    {
      "cell_type": "markdown",
      "source": [
        "#soft max 회귀"
      ],
      "metadata": {
        "id": "HA-zJDXcDMHa"
      }
    },
    {
      "cell_type": "code",
      "execution_count": 2,
      "metadata": {
        "id": "KRh3XZyCAzJq"
      },
      "outputs": [],
      "source": [
        "import torch\n",
        "import torch.nn as nn\n",
        "import torch.nn.functional as F\n",
        "import torch.optim as optim"
      ]
    },
    {
      "cell_type": "code",
      "source": [
        "torch.manual_seed(1)"
      ],
      "metadata": {
        "colab": {
          "base_uri": "https://localhost:8080/"
        },
        "id": "LLs-lJ3PBGhj",
        "outputId": "6c6ce2e1-6115-4ec1-b7d8-092ae1c7ba25"
      },
      "execution_count": 3,
      "outputs": [
        {
          "output_type": "execute_result",
          "data": {
            "text/plain": [
              "<torch._C.Generator at 0x7b35f443aa10>"
            ]
          },
          "metadata": {},
          "execution_count": 3
        }
      ]
    },
    {
      "cell_type": "code",
      "source": [
        "x_train = [[1,2,1,1],\n",
        "           [3,1,3,2],\n",
        "           [3,1,3,4],\n",
        "           [4,1,5,5],\n",
        "           [1,7,5,5],\n",
        "           [1,2,5,6],\n",
        "           [1,6,6,6],\n",
        "           [1,7,7,7]]\n",
        "y_train = [2,2,2,1,1,1,0,0]\n",
        "x_train = torch.FloatTensor(x_train)\n",
        "y_train = torch.LongTensor(y_train)"
      ],
      "metadata": {
        "id": "z5WD1bZ1BJ6f"
      },
      "execution_count": 4,
      "outputs": []
    },
    {
      "cell_type": "code",
      "source": [
        "print(x_train.shape)\n",
        "print(y_train.shape)"
      ],
      "metadata": {
        "colab": {
          "base_uri": "https://localhost:8080/"
        },
        "id": "Ah1ErmFhBusX",
        "outputId": "5c265ea1-07b1-439b-a8e2-4f61a7d7c9cf"
      },
      "execution_count": 5,
      "outputs": [
        {
          "output_type": "stream",
          "name": "stdout",
          "text": [
            "torch.Size([8, 4])\n",
            "torch.Size([8])\n"
          ]
        }
      ]
    },
    {
      "cell_type": "code",
      "source": [
        "y_one_hot = torch.zeros(8,3)\n",
        "y_one_hot.scatter_(1,y_train.unsqueeze(1),1)\n",
        "print(y_one_hot.shape)"
      ],
      "metadata": {
        "colab": {
          "base_uri": "https://localhost:8080/"
        },
        "id": "BCT-KaJWB5FX",
        "outputId": "b6617b40-184b-44ac-8983-bf74ba8af45a"
      },
      "execution_count": 9,
      "outputs": [
        {
          "output_type": "stream",
          "name": "stdout",
          "text": [
            "torch.Size([8, 3])\n"
          ]
        }
      ]
    },
    {
      "cell_type": "code",
      "source": [
        "class SoftmaxClassifierModel(nn.Module):\n",
        "    def __init__(self):\n",
        "        super().__init__()\n",
        "        self.linear = nn.Linear(4,3)\n",
        "    def forward(self,x):\n",
        "        return self.linear(x)"
      ],
      "metadata": {
        "id": "IX8jjpqxCHrW"
      },
      "execution_count": 10,
      "outputs": []
    },
    {
      "cell_type": "code",
      "source": [
        "model = SoftmaxClassifierModel()\n",
        "\n",
        "optimizer = torch.optim.SGD(model.parameters(), lr=0.1)"
      ],
      "metadata": {
        "id": "GTSIyVe9CO8V"
      },
      "execution_count": 11,
      "outputs": []
    },
    {
      "cell_type": "code",
      "source": [
        "epochs = 1000\n",
        "for epoch in range(epochs+1):\n",
        "    prediction = model(x_train)\n",
        "    cost = F.cross_entropy(prediction, y_train)\n",
        "\n",
        "    optimizer.zero_grad()\n",
        "    cost.backward()\n",
        "    optimizer.step()\n",
        "\n",
        "    if epoch % 100 == 0:\n",
        "        print('Epoch {:4d}/{} Cost: {:.6f}'.format(epoch, epochs, cost.item()))"
      ],
      "metadata": {
        "colab": {
          "base_uri": "https://localhost:8080/"
        },
        "id": "80eOIEPWCTg3",
        "outputId": "bbaa1d8f-b86d-4328-8487-d043e5bea238"
      },
      "execution_count": 14,
      "outputs": [
        {
          "output_type": "stream",
          "name": "stdout",
          "text": [
            "Epoch    0/1000 Cost: 0.032402\n",
            "Epoch  100/1000 Cost: 0.032124\n",
            "Epoch  200/1000 Cost: 0.031851\n",
            "Epoch  300/1000 Cost: 0.031582\n",
            "Epoch  400/1000 Cost: 0.031318\n",
            "Epoch  500/1000 Cost: 0.031059\n",
            "Epoch  600/1000 Cost: 0.030803\n",
            "Epoch  700/1000 Cost: 0.030552\n",
            "Epoch  800/1000 Cost: 0.030304\n",
            "Epoch  900/1000 Cost: 0.030061\n",
            "Epoch 1000/1000 Cost: 0.029822\n"
          ]
        }
      ]
    },
    {
      "cell_type": "markdown",
      "source": [
        "#soft max 회귀로 MNIST 데이터 분류하기"
      ],
      "metadata": {
        "id": "51XYaZc8DW8c"
      }
    },
    {
      "cell_type": "code",
      "source": [
        "import torch\n",
        "import torchvision.datasets as dsets\n",
        "import torchvision.transforms as transforms\n",
        "from torch.utils.data import DataLoader\n",
        "import torch.nn as nn\n",
        "import matplotlib.pyplot as plt\n",
        "import random"
      ],
      "metadata": {
        "id": "YjUhrzXsDgH5"
      },
      "execution_count": 1,
      "outputs": []
    },
    {
      "cell_type": "code",
      "source": [
        "USE_CUDA = torch.cuda.is_available()\n",
        "device = torch.device(\"cuda\" if USE_CUDA else \"cpu\")\n",
        "print(device)"
      ],
      "metadata": {
        "colab": {
          "base_uri": "https://localhost:8080/"
        },
        "id": "0ZX9_azCGXra",
        "outputId": "74d06bb2-5e63-4350-b8de-f29cb4f5bea0"
      },
      "execution_count": 2,
      "outputs": [
        {
          "output_type": "stream",
          "name": "stdout",
          "text": [
            "cuda\n"
          ]
        }
      ]
    },
    {
      "cell_type": "code",
      "source": [
        "random.seed(46)\n",
        "torch.manual_seed(46)\n",
        "if device == 'cuda':\n",
        "    torch.cuda.manual_seed_all(46)"
      ],
      "metadata": {
        "id": "rqgl2wqjGy19"
      },
      "execution_count": 3,
      "outputs": []
    },
    {
      "cell_type": "code",
      "source": [
        "training_epchs =100\n",
        "batch_size=100"
      ],
      "metadata": {
        "id": "HT4sDkCCG-S3"
      },
      "execution_count": 15,
      "outputs": []
    },
    {
      "cell_type": "code",
      "source": [
        "mnist_train = dsets.MNIST(root='data/',\n",
        "                          train=True,\n",
        "                          transform=transforms.ToTensor(),\n",
        "                          download=True)\n",
        "mnist_test = dsets.MNIST(root='data/',\n",
        "                         train=False,\n",
        "                         transform=transforms.ToTensor(),\n",
        "                         download=True)"
      ],
      "metadata": {
        "colab": {
          "base_uri": "https://localhost:8080/"
        },
        "id": "W-9Tyw7MHEp2",
        "outputId": "7b926430-653e-43bb-9686-47ba1c6c8b2a"
      },
      "execution_count": 5,
      "outputs": [
        {
          "output_type": "stream",
          "name": "stderr",
          "text": [
            "100%|██████████| 9.91M/9.91M [00:01<00:00, 5.07MB/s]\n",
            "100%|██████████| 28.9k/28.9k [00:00<00:00, 134kB/s]\n",
            "100%|██████████| 1.65M/1.65M [00:06<00:00, 242kB/s]\n",
            "100%|██████████| 4.54k/4.54k [00:00<00:00, 6.58MB/s]\n"
          ]
        }
      ]
    },
    {
      "cell_type": "code",
      "source": [
        "data_loader = DataLoader (dataset=mnist_train,\n",
        "                          batch_size=batch_size,\n",
        "                          shuffle=True,\n",
        "                          drop_last=True)"
      ],
      "metadata": {
        "id": "uIHtpKO2HQh_"
      },
      "execution_count": 6,
      "outputs": []
    },
    {
      "cell_type": "code",
      "source": [
        "linear = nn.Linear(784, 10, bias=True).to(device)"
      ],
      "metadata": {
        "id": "TnNklJAYHiYv"
      },
      "execution_count": 7,
      "outputs": []
    },
    {
      "cell_type": "code",
      "source": [
        "criterion = nn.CrossEntropyLoss().to(device)\n",
        "optimizer = torch.optim.SGD(linear.parameters(), lr=0.1)"
      ],
      "metadata": {
        "id": "aujqwbQxHsHT"
      },
      "execution_count": 8,
      "outputs": []
    },
    {
      "cell_type": "code",
      "source": [
        "for epoch in range(training_epchs):\n",
        "    avg_cost = 0\n",
        "    total_batch = len(data_loader)\n",
        "    for x,y in data_loader:\n",
        "      x=x.view(-1,28*28).to(device)\n",
        "\n",
        "      y=y.to(device)\n",
        "\n",
        "      optimizer.zero_grad()\n",
        "      hypothesis = linear(x)\n",
        "      cost = criterion(hypothesis,y)\n",
        "      cost.backward()\n",
        "      optimizer.step()\n",
        "\n",
        "      avg_cost += cost / total_batch\n",
        "\n",
        "    print('Epoch:', '%04d' % (epoch + 1), 'cost =', '{:.9f}'.format(avg_cost))\n",
        "print('학습 완료')"
      ],
      "metadata": {
        "colab": {
          "base_uri": "https://localhost:8080/"
        },
        "id": "6z5l-d6kIYRr",
        "outputId": "3db02a00-cb46-437a-fa9b-40bfd2b75019"
      },
      "execution_count": 16,
      "outputs": [
        {
          "output_type": "stream",
          "name": "stdout",
          "text": [
            "Epoch: 0001 cost = 0.273173302\n",
            "Epoch: 0002 cost = 0.271764576\n",
            "Epoch: 0003 cost = 0.270627767\n",
            "Epoch: 0004 cost = 0.269546628\n",
            "Epoch: 0005 cost = 0.268364877\n",
            "Epoch: 0006 cost = 0.267288983\n",
            "Epoch: 0007 cost = 0.266451418\n",
            "Epoch: 0008 cost = 0.265548468\n",
            "Epoch: 0009 cost = 0.264746308\n",
            "Epoch: 0010 cost = 0.263910264\n",
            "Epoch: 0011 cost = 0.263221473\n",
            "Epoch: 0012 cost = 0.262742311\n",
            "Epoch: 0013 cost = 0.262064964\n",
            "Epoch: 0014 cost = 0.261326581\n",
            "Epoch: 0015 cost = 0.260727316\n",
            "Epoch: 0016 cost = 0.260164857\n",
            "Epoch: 0017 cost = 0.259683937\n",
            "Epoch: 0018 cost = 0.259052783\n",
            "Epoch: 0019 cost = 0.258637041\n",
            "Epoch: 0020 cost = 0.258123279\n",
            "Epoch: 0021 cost = 0.257651389\n",
            "Epoch: 0022 cost = 0.257371694\n",
            "Epoch: 0023 cost = 0.256815463\n",
            "Epoch: 0024 cost = 0.256232947\n",
            "Epoch: 0025 cost = 0.255807877\n",
            "Epoch: 0026 cost = 0.255263060\n",
            "Epoch: 0027 cost = 0.255052388\n",
            "Epoch: 0028 cost = 0.254733622\n",
            "Epoch: 0029 cost = 0.254390448\n",
            "Epoch: 0030 cost = 0.254069835\n",
            "Epoch: 0031 cost = 0.253664911\n",
            "Epoch: 0032 cost = 0.253162295\n",
            "Epoch: 0033 cost = 0.253017604\n",
            "Epoch: 0034 cost = 0.252806246\n",
            "Epoch: 0035 cost = 0.252402693\n",
            "Epoch: 0036 cost = 0.252072901\n",
            "Epoch: 0037 cost = 0.251859426\n",
            "Epoch: 0038 cost = 0.251449138\n",
            "Epoch: 0039 cost = 0.251221031\n",
            "Epoch: 0040 cost = 0.250996828\n",
            "Epoch: 0041 cost = 0.250640363\n",
            "Epoch: 0042 cost = 0.250328094\n",
            "Epoch: 0043 cost = 0.250160635\n",
            "Epoch: 0044 cost = 0.250039846\n",
            "Epoch: 0045 cost = 0.249787062\n",
            "Epoch: 0046 cost = 0.249535084\n",
            "Epoch: 0047 cost = 0.249046564\n",
            "Epoch: 0048 cost = 0.248854846\n",
            "Epoch: 0049 cost = 0.248589084\n",
            "Epoch: 0050 cost = 0.248640984\n",
            "Epoch: 0051 cost = 0.248197585\n",
            "Epoch: 0052 cost = 0.248072356\n",
            "Epoch: 0053 cost = 0.247929156\n",
            "Epoch: 0054 cost = 0.247524753\n",
            "Epoch: 0055 cost = 0.247660741\n",
            "Epoch: 0056 cost = 0.247244418\n",
            "Epoch: 0057 cost = 0.247234851\n",
            "Epoch: 0058 cost = 0.246993229\n",
            "Epoch: 0059 cost = 0.246749684\n",
            "Epoch: 0060 cost = 0.246523708\n",
            "Epoch: 0061 cost = 0.246402234\n",
            "Epoch: 0062 cost = 0.246146411\n",
            "Epoch: 0063 cost = 0.245940626\n",
            "Epoch: 0064 cost = 0.245898113\n",
            "Epoch: 0065 cost = 0.245674595\n",
            "Epoch: 0066 cost = 0.245323822\n",
            "Epoch: 0067 cost = 0.245477349\n",
            "Epoch: 0068 cost = 0.245059937\n",
            "Epoch: 0069 cost = 0.244838893\n",
            "Epoch: 0070 cost = 0.244725287\n",
            "Epoch: 0071 cost = 0.244727060\n",
            "Epoch: 0072 cost = 0.244550362\n",
            "Epoch: 0073 cost = 0.244274780\n",
            "Epoch: 0074 cost = 0.244288951\n",
            "Epoch: 0075 cost = 0.244169146\n",
            "Epoch: 0076 cost = 0.243898690\n",
            "Epoch: 0077 cost = 0.243746683\n",
            "Epoch: 0078 cost = 0.243825898\n",
            "Epoch: 0079 cost = 0.243429795\n",
            "Epoch: 0080 cost = 0.243314564\n",
            "Epoch: 0081 cost = 0.243128061\n",
            "Epoch: 0082 cost = 0.243019849\n",
            "Epoch: 0083 cost = 0.242838919\n",
            "Epoch: 0084 cost = 0.242867082\n",
            "Epoch: 0085 cost = 0.242642999\n",
            "Epoch: 0086 cost = 0.242542982\n",
            "Epoch: 0087 cost = 0.242505655\n",
            "Epoch: 0088 cost = 0.242347926\n",
            "Epoch: 0089 cost = 0.241817370\n",
            "Epoch: 0090 cost = 0.241956472\n",
            "Epoch: 0091 cost = 0.242021739\n",
            "Epoch: 0092 cost = 0.241806194\n",
            "Epoch: 0093 cost = 0.241647944\n",
            "Epoch: 0094 cost = 0.241626382\n",
            "Epoch: 0095 cost = 0.241595268\n",
            "Epoch: 0096 cost = 0.241300628\n",
            "Epoch: 0097 cost = 0.241231874\n",
            "Epoch: 0098 cost = 0.241177171\n",
            "Epoch: 0099 cost = 0.241043985\n",
            "Epoch: 0100 cost = 0.240788653\n",
            "학습 완료\n"
          ]
        }
      ]
    },
    {
      "cell_type": "code",
      "source": [
        "with torch.no_grad():\n",
        "  X_test = mnist_test.test_data.view(-1,28*28).float().to(device)\n",
        "  Y_test = mnist_test.test_labels.to(device)\n",
        "\n",
        "  prediction = linear(X_test)\n",
        "  correct_prediction = torch.argmax(prediction, 1) == Y_test\n",
        "  accuracy = correct_prediction.float().mean()\n",
        "  print('Accuracy:', accuracy.item())\n",
        "\n",
        "  r = random.randint(0, len(mnist_test) - 1)\n",
        "  X_single_data = mnist_test.test_data[r:r + 1].view(-1, 28 * 28).float().to(device)\n",
        "  Y_single_data = mnist_test.test_labels[r:r + 1].to(device)\n",
        "\n",
        "  print('Label: ', Y_single_data.item())\n",
        "  single_prediction = linear(X_single_data)\n",
        "  print('Prediction: ', torch.argmax(single_prediction, 1).item())\n",
        "\n",
        "  plt.imshow(mnist_test.test_data[r:r + 1].view(28, 28), cmap='Greys', interpolation='nearest')\n",
        "  plt.show()"
      ],
      "metadata": {
        "colab": {
          "base_uri": "https://localhost:8080/",
          "height": 482
        },
        "id": "6k3EvOw5OvFj",
        "outputId": "63f9655d-aa13-468d-9a8d-7e452ef294d3"
      },
      "execution_count": 60,
      "outputs": [
        {
          "output_type": "stream",
          "name": "stdout",
          "text": [
            "Accuracy: 0.8695999979972839\n",
            "Label:  7\n",
            "Prediction:  7\n"
          ]
        },
        {
          "output_type": "display_data",
          "data": {
            "text/plain": [
              "<Figure size 640x480 with 1 Axes>"
            ],
            "image/png": "[encoded data removed]"
          },
          "metadata": {}
        }
      ]
    }
  ]
}