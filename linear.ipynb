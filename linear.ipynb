{
  "nbformat": 4,
  "nbformat_minor": 0,
  "metadata": {
    "colab": {
      "provenance": [],
      "authorship_tag": "ABX9TyP8KaRYh4jYj0PPy21tGAH5",
      "include_colab_link": true
    },
    "kernelspec": {
      "name": "python3",
      "display_name": "Python 3"
    },
    "language_info": {
      "name": "python"
    }
  },
  "cells": [
    {
      "cell_type": "markdown",
      "metadata": {
        "id": "view-in-github",
        "colab_type": "text"
      },
      "source": [
        "<a href=\"https://colab.research.google.com/github/jungwoo1208/AI_Study/blob/main/linear.ipynb\" target=\"_parent\"><img src=\"https://colab.research.google.com/assets/colab-badge.svg\" alt=\"Open In Colab\"/></a>"
      ]
    },
    {
      "cell_type": "code",
      "execution_count": 8,
      "metadata": {
        "id": "97qVbpEQPvtO"
      },
      "outputs": [],
      "source": [
        "import torch\n",
        "import torch.nn as nn\n",
        "import torch.nn.functional as F\n",
        "import matplotlib.pyplot as plt"
      ]
    },
    {
      "cell_type": "code",
      "source": [
        "torch.manual_seed(1)"
      ],
      "metadata": {
        "colab": {
          "base_uri": "https://localhost:8080/"
        },
        "id": "hJ8mGvZ5P9FW",
        "outputId": "c8a5be76-2bb0-4820-ae97-5d09fe298396"
      },
      "execution_count": 2,
      "outputs": [
        {
          "output_type": "execute_result",
          "data": {
            "text/plain": [
              "<torch._C.Generator at 0x79dfa0f82350>"
            ]
          },
          "metadata": {},
          "execution_count": 2
        }
      ]
    },
    {
      "cell_type": "code",
      "source": [
        "X = torch.tensor([[1.0], [2.0], [3.0], [4.0], [5.0]])\n",
        "y = torch.tensor([[1.5], [1.9], [3.0], [3.6], [4.2]])"
      ],
      "metadata": {
        "id": "5jgupUJkQAhB"
      },
      "execution_count": 3,
      "outputs": []
    },
    {
      "cell_type": "code",
      "source": [
        "model = nn.Linear(1,1)"
      ],
      "metadata": {
        "id": "ovVTBuY9QIvK"
      },
      "execution_count": 4,
      "outputs": []
    },
    {
      "cell_type": "code",
      "source": [
        "optimizer = torch.optim.SGD(model.parameters(), lr=0.01)"
      ],
      "metadata": {
        "id": "wWtG63I9QQ0b"
      },
      "execution_count": 5,
      "outputs": []
    },
    {
      "cell_type": "code",
      "source": [
        "epochs= 2000\n",
        "for epoch in range(epochs):\n",
        "  prediction = model(X)\n",
        "  cost = F.mse_loss(prediction, y)\n",
        "  optimizer.zero_grad()\n",
        "  cost.backward()\n",
        "  optimizer.step()\n",
        "  if epoch % 100 ==0:\n",
        "    print('epoch {:4d}/{} Cost: {:6f}'.format(epoch, epochs, cost.item()))"
      ],
      "metadata": {
        "colab": {
          "base_uri": "https://localhost:8080/"
        },
        "id": "T7KNmbCvQT34",
        "outputId": "5514a0bd-7a58-4b0a-d977-3a5adc9afbbc"
      },
      "execution_count": 6,
      "outputs": [
        {
          "output_type": "stream",
          "name": "stdout",
          "text": [
            "epoch    0/2000 Cost: 3.106313\n",
            "epoch  100/2000 Cost: 0.114252\n",
            "epoch  200/2000 Cost: 0.066991\n",
            "epoch  300/2000 Cost: 0.042984\n",
            "epoch  400/2000 Cost: 0.030790\n",
            "epoch  500/2000 Cost: 0.024595\n",
            "epoch  600/2000 Cost: 0.021449\n",
            "epoch  700/2000 Cost: 0.019850\n",
            "epoch  800/2000 Cost: 0.019038\n",
            "epoch  900/2000 Cost: 0.018626\n",
            "epoch 1000/2000 Cost: 0.018416\n",
            "epoch 1100/2000 Cost: 0.018310\n",
            "epoch 1200/2000 Cost: 0.018256\n",
            "epoch 1300/2000 Cost: 0.018228\n",
            "epoch 1400/2000 Cost: 0.018214\n",
            "epoch 1500/2000 Cost: 0.018207\n",
            "epoch 1600/2000 Cost: 0.018204\n",
            "epoch 1700/2000 Cost: 0.018202\n",
            "epoch 1800/2000 Cost: 0.018201\n",
            "epoch 1900/2000 Cost: 0.018200\n"
          ]
        }
      ]
    },
    {
      "cell_type": "code",
      "source": [
        "with torch.no_grad():\n",
        "    predicted = model(X)\n",
        "    plt.scatter(X.numpy(), y.numpy(), label='Original data')\n",
        "    plt.plot(X.numpy(), predicted.numpy(), color='red', label='Fitted line')\n",
        "    plt.legend()\n",
        "    plt.show()\n"
      ],
      "metadata": {
        "colab": {
          "base_uri": "https://localhost:8080/",
          "height": 430
        },
        "id": "OjYtRPT4RhLN",
        "outputId": "47822b36-6624-429a-bd6d-305a75c56242"
      },
      "execution_count": 9,
      "outputs": [
        {
          "output_type": "display_data",
          "data": {
            "text/plain": [
              "<Figure size 640x480 with 1 Axes>"
            ],
            "image/png": "[encoded data removed]"
          },
          "metadata": {}
        }
      ]
    }
  ]
}