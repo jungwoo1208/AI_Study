{
  "nbformat": 4,
  "nbformat_minor": 0,
  "metadata": {
    "colab": {
      "provenance": [],
      "gpuType": "T4",
      "authorship_tag": "ABX9TyOll8o78irM+cvc2l50bpYR",
      "include_colab_link": true
    },
    "kernelspec": {
      "name": "python3",
      "display_name": "Python 3"
    },
    "language_info": {
      "name": "python"
    },
    "accelerator": "GPU"
  },
  "cells": [
    {
      "cell_type": "markdown",
      "metadata": {
        "id": "view-in-github",
        "colab_type": "text"
      },
      "source": [
        "<a href=\"https://colab.research.google.com/github/jungwoo1208/AI_Study/blob/main/mlp_mnist.ipynb\" target=\"_parent\"><img src=\"https://colab.research.google.com/assets/colab-badge.svg\" alt=\"Open In Colab\"/></a>"
      ]
    },
    {
      "cell_type": "code",
      "execution_count": 5,
      "metadata": {
        "id": "zYEMZxTLTk9t"
      },
      "outputs": [],
      "source": [
        "import numpy as np\n",
        "import matplotlib.pyplot as plt\n",
        "%matplotlib inline\n",
        "from sklearn.datasets import fetch_openml"
      ]
    },
    {
      "cell_type": "code",
      "source": [
        "mnist = fetch_openml('mnist_784', version=1,cache=True, as_frame=False)"
      ],
      "metadata": {
        "id": "GUfpUBDcUJTQ"
      },
      "execution_count": 9,
      "outputs": []
    },
    {
      "cell_type": "code",
      "source": [
        "mnist.target = mnist.target.astype(np.int8)"
      ],
      "metadata": {
        "id": "wSdZA_jdURJz"
      },
      "execution_count": 13,
      "outputs": []
    },
    {
      "cell_type": "code",
      "source": [
        "x =mnist.data/255\n",
        "y  = mnist.target"
      ],
      "metadata": {
        "id": "TO0Gjn2gUgp5"
      },
      "execution_count": 14,
      "outputs": []
    },
    {
      "cell_type": "code",
      "source": [
        "plt.imshow(x[0].reshape(28,28), cmap='gray')\n",
        "print(\"이 이미지 데이터의 레이블은 {:.0f}이다\".format(y[0]))"
      ],
      "metadata": {
        "colab": {
          "base_uri": "https://localhost:8080/",
          "height": 447
        },
        "id": "GMsmOCu2Up_1",
        "outputId": "0c76fdb0-555d-4b83-836e-37fb2c637994"
      },
      "execution_count": 16,
      "outputs": [
        {
          "output_type": "stream",
          "name": "stdout",
          "text": [
            "이 이미지 데이터의 레이블은 5이다\n"
          ]
        },
        {
          "output_type": "display_data",
          "data": {
            "text/plain": [
              "<Figure size 640x480 with 1 Axes>"
            ],
            "image/png": "[encoded data removed]"
          },
          "metadata": {}
        }
      ]
    },
    {
      "cell_type": "code",
      "source": [
        "import torch\n",
        "from torch.utils.data import TensorDataset, DataLoader\n",
        "from sklearn.model_selection import train_test_split"
      ],
      "metadata": {
        "id": "DNVltOY0VAof"
      },
      "execution_count": 17,
      "outputs": []
    },
    {
      "cell_type": "code",
      "source": [
        "x_train, x_test, y_train, y_test = train_test_split(x,y, test_size=1/7, random_state=42)"
      ],
      "metadata": {
        "id": "11AMM8PFVYP6"
      },
      "execution_count": 18,
      "outputs": []
    },
    {
      "cell_type": "code",
      "source": [
        "x_train = torch.Tensor(x_train)\n",
        "x_test = torch.Tensor(x_test)\n",
        "y_train = torch.LongTensor(y_train)\n",
        "y_test = torch.LongTensor(y_test)\n",
        "\n",
        "ds_train = TensorDataset(x_train, y_train)\n",
        "ds_test = TensorDataset(x_test, y_test)\n",
        "\n",
        "loader_train = DataLoader(ds_train, batch_size=64, shuffle=True)\n",
        "loader_test = DataLoader(ds_test, batch_size=64, shuffle=False)"
      ],
      "metadata": {
        "id": "2Obx3D-rVob2"
      },
      "execution_count": 20,
      "outputs": []
    },
    {
      "cell_type": "code",
      "source": [
        "from torch import nn\n",
        "from torch import optim"
      ],
      "metadata": {
        "id": "7WPdZWekVxWL"
      },
      "execution_count": 21,
      "outputs": []
    },
    {
      "cell_type": "code",
      "source": [
        "model = nn.Sequential()\n",
        "model.add_module('fc1', nn.Linear(28*28*1, 100))\n",
        "model.add_module('relu1', nn.ReLU())\n",
        "model.add_module('fc2', nn.Linear(100,100))\n",
        "model.add_module('relu2', nn.ReLU())\n",
        "model.add_module('fc3', nn.Linear(100,10))\n",
        "\n",
        "print(model)"
      ],
      "metadata": {
        "colab": {
          "base_uri": "https://localhost:8080/"
        },
        "id": "zHNtY1j8V2pu",
        "outputId": "dd612c05-2170-448f-b70a-b2b078e7fed0"
      },
      "execution_count": 26,
      "outputs": [
        {
          "output_type": "stream",
          "name": "stdout",
          "text": [
            "Sequential(\n",
            "  (fc1): Linear(in_features=784, out_features=100, bias=True)\n",
            "  (relu1): ReLU()\n",
            "  (fc2): Linear(in_features=100, out_features=100, bias=True)\n",
            "  (relu2): ReLU()\n",
            "  (fc3): Linear(in_features=100, out_features=10, bias=True)\n",
            ")\n"
          ]
        }
      ]
    },
    {
      "cell_type": "code",
      "source": [
        "loss_fn = nn.CrossEntropyLoss()\n",
        "optimizer = optim.Adam(model.parameters(), lr=0.01)"
      ],
      "metadata": {
        "id": "hKaLkaTJWHAR"
      },
      "execution_count": 27,
      "outputs": []
    },
    {
      "cell_type": "code",
      "source": [
        "epochs =30\n",
        "\n",
        "for epoch in range(epochs):\n",
        "    for data, targets in loader_train:\n",
        "        optimizer.zero_grad()\n",
        "        y_pred = model(data)\n",
        "        loss = loss_fn(y_pred, targets)\n",
        "        loss.backward()\n",
        "        optimizer.step()\n",
        "    print(\"Epoch {:4d}/{} Loss: {:.3f}\".format(epoch+1, epochs, loss))"
      ],
      "metadata": {
        "colab": {
          "base_uri": "https://localhost:8080/"
        },
        "id": "IeCpKbB7WJvv",
        "outputId": "05e73808-2679-40d4-b7e7-dcc4dfb6c8a1"
      },
      "execution_count": 28,
      "outputs": [
        {
          "output_type": "stream",
          "name": "stdout",
          "text": [
            "Epoch    1/30 Loss: 0.120\n",
            "Epoch    2/30 Loss: 0.259\n",
            "Epoch    3/30 Loss: 0.016\n",
            "Epoch    4/30 Loss: 0.103\n",
            "Epoch    5/30 Loss: 0.154\n",
            "Epoch    6/30 Loss: 0.002\n",
            "Epoch    7/30 Loss: 0.086\n",
            "Epoch    8/30 Loss: 0.153\n",
            "Epoch    9/30 Loss: 0.054\n",
            "Epoch   10/30 Loss: 0.138\n",
            "Epoch   11/30 Loss: 0.002\n",
            "Epoch   12/30 Loss: 0.005\n",
            "Epoch   13/30 Loss: 0.112\n",
            "Epoch   14/30 Loss: 0.129\n",
            "Epoch   15/30 Loss: 0.007\n",
            "Epoch   16/30 Loss: 0.010\n",
            "Epoch   17/30 Loss: 0.029\n",
            "Epoch   18/30 Loss: 0.243\n",
            "Epoch   19/30 Loss: 0.153\n",
            "Epoch   20/30 Loss: 0.000\n",
            "Epoch   21/30 Loss: 0.000\n",
            "Epoch   22/30 Loss: 0.002\n",
            "Epoch   23/30 Loss: 0.007\n",
            "Epoch   24/30 Loss: 0.116\n",
            "Epoch   25/30 Loss: 0.000\n",
            "Epoch   26/30 Loss: 0.000\n",
            "Epoch   27/30 Loss: 0.013\n",
            "Epoch   28/30 Loss: 0.003\n",
            "Epoch   29/30 Loss: 0.064\n",
            "Epoch   30/30 Loss: 0.000\n"
          ]
        }
      ]
    },
    {
      "cell_type": "code",
      "source": [
        "model.eval()\n",
        "correct = 0\n",
        "with torch.no_grad():\n",
        "    for data, targets in loader_test:\n",
        "        outputs = model(data)\n",
        "        _, predicted = torch.max(outputs.data,1)\n",
        "        correct += predicted.eq(targets.data.view_as(predicted)).sum()\n",
        "data_num = len(loader_test.dataset)\n",
        "print('테스트 데이터에서 예측 정확도: {:.2f}%'.format(100.*correct/data_num))"
      ],
      "metadata": {
        "colab": {
          "base_uri": "https://localhost:8080/"
        },
        "id": "nrpmhr_oX4VK",
        "outputId": "1f8b7838-82e0-4d0e-a5d7-e2e763eec581"
      },
      "execution_count": 29,
      "outputs": [
        {
          "output_type": "stream",
          "name": "stdout",
          "text": [
            "테스트 데이터에서 예측 정확도: 96.58%\n"
          ]
        }
      ]
    }
  ]
}