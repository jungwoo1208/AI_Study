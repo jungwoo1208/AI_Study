{
  "nbformat": 4,
  "nbformat_minor": 0,
  "metadata": {
    "colab": {
      "provenance": [],
      "gpuType": "T4",
      "authorship_tag": "ABX9TyPxZV4bXwODZibhkdipzvRd",
      "include_colab_link": true
    },
    "kernelspec": {
      "name": "python3",
      "display_name": "Python 3"
    },
    "language_info": {
      "name": "python"
    },
    "accelerator": "GPU"
  },
  "cells": [
    {
      "cell_type": "markdown",
      "metadata": {
        "id": "view-in-github",
        "colab_type": "text"
      },
      "source": [
        "<a href=\"https://colab.research.google.com/github/jungwoo1208/AI_Study/blob/main/LinearRegression.ipynb\" target=\"_parent\"><img src=\"https://colab.research.google.com/assets/colab-badge.svg\" alt=\"Open In Colab\"/></a>"
      ]
    },
    {
      "cell_type": "markdown",
      "source": [
        "#기본셋팅"
      ],
      "metadata": {
        "id": "g5YDo_tiPz4U"
      }
    },
    {
      "cell_type": "code",
      "execution_count": 1,
      "metadata": {
        "id": "1AA-F7L9N3HP"
      },
      "outputs": [],
      "source": [
        "import torch\n",
        "import torch.nn as nn\n",
        "import torch.nn.functional as F\n",
        "import torch.optim as optim"
      ]
    },
    {
      "cell_type": "code",
      "source": [
        "torch.manual_seed(1)"
      ],
      "metadata": {
        "colab": {
          "base_uri": "https://localhost:8080/"
        },
        "id": "LG0CxXfUPv-r",
        "outputId": "5ff2c445-572d-42ea-8d98-eaf9bfd6d65e"
      },
      "execution_count": 2,
      "outputs": [
        {
          "output_type": "execute_result",
          "data": {
            "text/plain": [
              "<torch._C.Generator at 0x7bb67851e9d0>"
            ]
          },
          "metadata": {},
          "execution_count": 2
        }
      ]
    },
    {
      "cell_type": "markdown",
      "source": [
        "#변수 선언"
      ],
      "metadata": {
        "id": "wrrvLGHpP4TF"
      }
    },
    {
      "cell_type": "code",
      "source": [
        "x_train = torch.FloatTensor([[1], [2], [3], [4], [5]])\n",
        "y_train = torch.FloatTensor([[2], [4], [6], [8], [10]])"
      ],
      "metadata": {
        "id": "W-IJJeMkOMLC"
      },
      "execution_count": 3,
      "outputs": []
    },
    {
      "cell_type": "code",
      "source": [
        "print(x_train)\n",
        "print(x_train.shape)"
      ],
      "metadata": {
        "colab": {
          "base_uri": "https://localhost:8080/"
        },
        "id": "EJJROkyGObB-",
        "outputId": "5d942f3a-d145-4184-c508-0797b73c9c8d"
      },
      "execution_count": 4,
      "outputs": [
        {
          "output_type": "stream",
          "name": "stdout",
          "text": [
            "tensor([[1.],\n",
            "        [2.],\n",
            "        [3.],\n",
            "        [4.],\n",
            "        [5.]])\n",
            "torch.Size([5, 1])\n"
          ]
        }
      ]
    },
    {
      "cell_type": "code",
      "source": [
        "print(y_train)\n",
        "print(y_train.shape)"
      ],
      "metadata": {
        "colab": {
          "base_uri": "https://localhost:8080/"
        },
        "id": "51uoNZlFOgbl",
        "outputId": "13e0dc94-91b4-447e-cc07-e20fe680d7ae"
      },
      "execution_count": 5,
      "outputs": [
        {
          "output_type": "stream",
          "name": "stdout",
          "text": [
            "tensor([[ 2.],\n",
            "        [ 4.],\n",
            "        [ 6.],\n",
            "        [ 8.],\n",
            "        [10.]])\n",
            "torch.Size([5, 1])\n"
          ]
        }
      ]
    },
    {
      "cell_type": "markdown",
      "source": [
        "#가중치와 편향 초기화"
      ],
      "metadata": {
        "id": "WktBYHmxQGV_"
      }
    },
    {
      "cell_type": "code",
      "source": [
        "W= torch.zeros(1, requires_grad=True)\n",
        "print(W)"
      ],
      "metadata": {
        "colab": {
          "base_uri": "https://localhost:8080/"
        },
        "id": "eYY-hXPwOkhM",
        "outputId": "c3742f98-b91f-4591-b921-283dd322380b"
      },
      "execution_count": 6,
      "outputs": [
        {
          "output_type": "stream",
          "name": "stdout",
          "text": [
            "tensor([0.], requires_grad=True)\n"
          ]
        }
      ]
    },
    {
      "cell_type": "code",
      "source": [
        "b = torch.zeros(1, requires_grad=True)\n",
        "print(b)"
      ],
      "metadata": {
        "colab": {
          "base_uri": "https://localhost:8080/"
        },
        "id": "PZrrPwkIOu1H",
        "outputId": "589e0d3b-4921-4ed4-e0d6-17209d7e6e65"
      },
      "execution_count": 7,
      "outputs": [
        {
          "output_type": "stream",
          "name": "stdout",
          "text": [
            "tensor([0.], requires_grad=True)\n"
          ]
        }
      ]
    },
    {
      "cell_type": "markdown",
      "source": [
        "#가설 세우기"
      ],
      "metadata": {
        "id": "AatqkqwOQURK"
      }
    },
    {
      "cell_type": "markdown",
      "source": [
        "H(x) = Wx + b"
      ],
      "metadata": {
        "id": "0QKaalzDQW66"
      }
    },
    {
      "cell_type": "code",
      "source": [
        "hypothesis = x_train * W + b\n",
        "print(hypothesis)"
      ],
      "metadata": {
        "colab": {
          "base_uri": "https://localhost:8080/"
        },
        "id": "gEzdgMD5O04-",
        "outputId": "736c9e9b-3065-445f-ddfd-4f87556a3aa0"
      },
      "execution_count": 8,
      "outputs": [
        {
          "output_type": "stream",
          "name": "stdout",
          "text": [
            "tensor([[0.],\n",
            "        [0.],\n",
            "        [0.],\n",
            "        [0.],\n",
            "        [0.]], grad_fn=<AddBackward0>)\n"
          ]
        }
      ]
    },
    {
      "cell_type": "markdown",
      "source": [
        "#비용 함수 선언하기"
      ],
      "metadata": {
        "id": "9I0pvXKuQc6h"
      }
    },
    {
      "cell_type": "markdown",
      "source": [
        "![image.png](data:image/png;base64,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)"
      ],
      "metadata": {
        "id": "TL6O6xBqQq1e"
      }
    },
    {
      "cell_type": "code",
      "source": [
        "cost = torch.mean((hypothesis - y_train) ** 2)\n",
        "print(cost)"
      ],
      "metadata": {
        "colab": {
          "base_uri": "https://localhost:8080/"
        },
        "id": "fbsb80HEO_Oy",
        "outputId": "a1a9a617-418c-4d10-e721-2066dcb25fb1"
      },
      "execution_count": 9,
      "outputs": [
        {
          "output_type": "stream",
          "name": "stdout",
          "text": [
            "tensor(44., grad_fn=<MeanBackward0>)\n"
          ]
        }
      ]
    },
    {
      "cell_type": "markdown",
      "source": [
        "#경사하강법 구현하기"
      ],
      "metadata": {
        "id": "AvIM31vKQw3P"
      }
    },
    {
      "cell_type": "code",
      "source": [
        "oprimizer = optim.SGD([W, b], lr=0.01)"
      ],
      "metadata": {
        "id": "13yAp1PcPB-_"
      },
      "execution_count": 10,
      "outputs": []
    },
    {
      "cell_type": "code",
      "source": [
        "oprimizer.zero_grad()\n",
        "cost.backward()\n",
        "oprimizer.step()"
      ],
      "metadata": {
        "id": "ZhMR1x1EPEGo"
      },
      "execution_count": 11,
      "outputs": []
    },
    {
      "cell_type": "markdown",
      "source": [
        "#전체 코드"
      ],
      "metadata": {
        "id": "wPQf2fbjQ1p7"
      }
    },
    {
      "cell_type": "code",
      "source": [
        "#데이터\n",
        "x_train = torch.FloatTensor([[1], [2], [3], [4], [5]])\n",
        "y_train = torch.FloatTensor([[2], [4], [6], [8], [10]])\n",
        "#모델 초기화\n",
        "W= torch.zeros(1, requires_grad=True)\n",
        "b = torch.zeros(1, requires_grad=True)\n",
        "#optimizerㅍ설정\n",
        "optimizer = optim.SGD([W, b], lr=0.01)\n",
        "\n",
        "epochs= 2000 #원하는 에폭 설정\n",
        "for epoch in range(epochs):\n",
        "    #H(x) 계산\n",
        "    hypothesis = x_train * W + b\n",
        "    # cost 계산\n",
        "    cost = torch.mean((hypothesis - y_train) ** 2)\n",
        "    #cost로 H(x) 개선\n",
        "    optimizer.zero_grad()\n",
        "    cost.backward()\n",
        "    optimizer.step()\n",
        "    #100번 마다 로그 출력\n",
        "    if epoch % 100 == 0:\n",
        "        print('Epoch {:4d}/{} W: {:.3f}, b: {:.3f} Cost: {:.6f}'.format(\n",
        "            epoch, epochs, W.item(), b.item(), cost.item()\n",
        "        ))"
      ],
      "metadata": {
        "colab": {
          "base_uri": "https://localhost:8080/"
        },
        "id": "IbHcHSkLPJWl",
        "outputId": "bba216d7-ceb8-40e7-a08d-bb2f1df5b3aa"
      },
      "execution_count": 12,
      "outputs": [
        {
          "output_type": "stream",
          "name": "stdout",
          "text": [
            "Epoch    0/2000 W: 0.440, b: 0.120 Cost: 44.000000\n",
            "Epoch  100/2000 W: 1.899, b: 0.365 Cost: 0.024474\n",
            "Epoch  200/2000 W: 1.928, b: 0.260 Cost: 0.012432\n",
            "Epoch  300/2000 W: 1.949, b: 0.186 Cost: 0.006315\n",
            "Epoch  400/2000 W: 1.963, b: 0.132 Cost: 0.003208\n",
            "Epoch  500/2000 W: 1.974, b: 0.094 Cost: 0.001630\n",
            "Epoch  600/2000 W: 1.981, b: 0.067 Cost: 0.000828\n",
            "Epoch  700/2000 W: 1.987, b: 0.048 Cost: 0.000420\n",
            "Epoch  800/2000 W: 1.991, b: 0.034 Cost: 0.000214\n",
            "Epoch  900/2000 W: 1.993, b: 0.024 Cost: 0.000108\n",
            "Epoch 1000/2000 W: 1.995, b: 0.017 Cost: 0.000055\n",
            "Epoch 1100/2000 W: 1.997, b: 0.012 Cost: 0.000028\n",
            "Epoch 1200/2000 W: 1.998, b: 0.009 Cost: 0.000014\n",
            "Epoch 1300/2000 W: 1.998, b: 0.006 Cost: 0.000007\n",
            "Epoch 1400/2000 W: 1.999, b: 0.004 Cost: 0.000004\n",
            "Epoch 1500/2000 W: 1.999, b: 0.003 Cost: 0.000002\n",
            "Epoch 1600/2000 W: 1.999, b: 0.002 Cost: 0.000001\n",
            "Epoch 1700/2000 W: 2.000, b: 0.002 Cost: 0.000000\n",
            "Epoch 1800/2000 W: 2.000, b: 0.001 Cost: 0.000000\n",
            "Epoch 1900/2000 W: 2.000, b: 0.001 Cost: 0.000000\n"
          ]
        }
      ]
    }
  ]
}