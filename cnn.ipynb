{
  "nbformat": 4,
  "nbformat_minor": 0,
  "metadata": {
    "colab": {
      "provenance": [],
      "gpuType": "T4",
      "authorship_tag": "ABX9TyNbwMjdFK+onSEdpmkdCyFS",
      "include_colab_link": true
    },
    "kernelspec": {
      "name": "python3",
      "display_name": "Python 3"
    },
    "language_info": {
      "name": "python"
    },
    "accelerator": "GPU"
  },
  "cells": [
    {
      "cell_type": "markdown",
      "metadata": {
        "id": "view-in-github",
        "colab_type": "text"
      },
      "source": [
        "<a href=\"https://colab.research.google.com/github/jungwoo1208/AI_Study/blob/main/cnn.ipynb\" target=\"_parent\"><img src=\"https://colab.research.google.com/assets/colab-badge.svg\" alt=\"Open In Colab\"/></a>"
      ]
    },
    {
      "cell_type": "code",
      "execution_count": 1,
      "metadata": {
        "id": "LlIAZ2nEfFf1"
      },
      "outputs": [],
      "source": [
        "import torch\n",
        "import torch.nn as nn\n",
        "import torchvision.datasets as dsets\n",
        "import torchvision.transforms as transforms\n",
        "import torch.nn.init\n",
        "\n",
        "device = 'cuda' if torch.cuda.is_available() else 'cpu'\n",
        "\n",
        "torch.manual_seed(128)\n",
        "if device == 'cuda':\n",
        "    torch.cuda.manual_seed_all(128)"
      ]
    },
    {
      "cell_type": "code",
      "source": [
        "learning_rate = 0.001\n",
        "training_epochs = 100\n",
        "batch_size = 100"
      ],
      "metadata": {
        "id": "rHH5u01XgPgb"
      },
      "execution_count": 2,
      "outputs": []
    },
    {
      "cell_type": "code",
      "source": [
        "mnist_train = dsets.MNIST(root='MNIST_data/',\n",
        "                          train=True,\n",
        "                          transform=transforms.ToTensor(),\n",
        "                          download=True)\n",
        "\n",
        "mnist_test = dsets.MNIST(root='MNIST_data/',\n",
        "                         train=False,\n",
        "                         transform=transforms.ToTensor(),\n",
        "                         download=True)"
      ],
      "metadata": {
        "colab": {
          "base_uri": "https://localhost:8080/"
        },
        "id": "hsonYeH0gRlB",
        "outputId": "dc647782-0e27-4948-ca61-eb92563aa650"
      },
      "execution_count": 3,
      "outputs": [
        {
          "output_type": "stream",
          "name": "stderr",
          "text": [
            "100%|██████████| 9.91M/9.91M [00:00<00:00, 17.7MB/s]\n",
            "100%|██████████| 28.9k/28.9k [00:00<00:00, 480kB/s]\n",
            "100%|██████████| 1.65M/1.65M [00:00<00:00, 4.46MB/s]\n",
            "100%|██████████| 4.54k/4.54k [00:00<00:00, 5.46MB/s]\n"
          ]
        }
      ]
    },
    {
      "cell_type": "code",
      "source": [
        "data_loader= torch.utils.data.DataLoader(dataset=mnist_train,\n",
        "                                         batch_size=batch_size,\n",
        "                                         shuffle=True,\n",
        "                                         drop_last=True)"
      ],
      "metadata": {
        "id": "y9W2cH3rgiRw"
      },
      "execution_count": 4,
      "outputs": []
    },
    {
      "cell_type": "code",
      "source": [
        "class CNN(torch.nn.Module):\n",
        "    def __init__(self):\n",
        "        super(CNN, self).__init__()\n",
        "\n",
        "        self.layer1 = torch.nn.Sequential(\n",
        "            torch.nn.Conv2d(1,32, kernel_size=3, stride=1, padding=1),\n",
        "            torch.nn.ReLU(),\n",
        "            torch.nn.MaxPool2d(kernel_size=2, stride=2)\n",
        "        )\n",
        "\n",
        "        self.layer2 = torch.nn.Sequential(\n",
        "            torch.nn.Conv2d(32,64, kernel_size=3, stride=1, padding=1),\n",
        "            torch.nn.ReLU(),\n",
        "            torch.nn.MaxPool2d(kernel_size=2, stride=2)\n",
        "        )\n",
        "\n",
        "        self.fc=torch.nn.Linear(7*7*64, 10, bias=True)\n",
        "\n",
        "        torch.nn.init.xavier_uniform_(self.fc.weight)\n",
        "\n",
        "    def forward(self, x):\n",
        "        out=self.layer1(x)\n",
        "        out=self.layer2(out)\n",
        "        out=out.view(out.size(0), -1)\n",
        "        out=self.fc(out)\n",
        "        return out"
      ],
      "metadata": {
        "id": "kJWj0IAEgyvn"
      },
      "execution_count": 7,
      "outputs": []
    },
    {
      "cell_type": "code",
      "source": [
        "model= CNN().to(device)"
      ],
      "metadata": {
        "id": "YljCg5mJhZ_E"
      },
      "execution_count": 8,
      "outputs": []
    },
    {
      "cell_type": "code",
      "source": [
        "criterion = torch.nn.CrossEntropyLoss().to(device)\n",
        "optimizer = torch.optim.Adam(model.parameters(), lr=learning_rate)"
      ],
      "metadata": {
        "id": "Wk35MTpyhdqJ"
      },
      "execution_count": 9,
      "outputs": []
    },
    {
      "cell_type": "code",
      "source": [
        "for epoch in range(training_epochs):\n",
        "    avg_cost = 0\n",
        "\n",
        "    for x, y in data_loader:\n",
        "      x=x.to(device)\n",
        "      y=y.to(device)\n",
        "\n",
        "      optimizer.zero_grad()\n",
        "      hypothesis = model(x)\n",
        "\n",
        "      cost = criterion(hypothesis, y)\n",
        "      cost.backward()\n",
        "      optimizer.step()\n",
        "\n",
        "      avg_cost += cost / len(data_loader)\n",
        "\n",
        "    print('[Epoch: {:>4}] cost = {:>.9}'.format(epoch + 1, avg_cost))"
      ],
      "metadata": {
        "colab": {
          "base_uri": "https://localhost:8080/"
        },
        "id": "IJaMSp6Ehnl-",
        "outputId": "2970d4f1-eb6b-4af7-edc8-7979a0cf2c92"
      },
      "execution_count": 10,
      "outputs": [
        {
          "output_type": "stream",
          "name": "stdout",
          "text": [
            "[Epoch:    1] cost = 0.223997593\n",
            "[Epoch:    2] cost = 0.062595509\n",
            "[Epoch:    3] cost = 0.0436661988\n",
            "[Epoch:    4] cost = 0.0366139933\n",
            "[Epoch:    5] cost = 0.029463144\n",
            "[Epoch:    6] cost = 0.0247481726\n",
            "[Epoch:    7] cost = 0.021132132\n",
            "[Epoch:    8] cost = 0.0184578486\n",
            "[Epoch:    9] cost = 0.0146780433\n",
            "[Epoch:   10] cost = 0.0123129496\n",
            "[Epoch:   11] cost = 0.011236826\n",
            "[Epoch:   12] cost = 0.00924949162\n",
            "[Epoch:   13] cost = 0.00737076066\n",
            "[Epoch:   14] cost = 0.00704437587\n",
            "[Epoch:   15] cost = 0.00715427659\n",
            "[Epoch:   16] cost = 0.00470992923\n",
            "[Epoch:   17] cost = 0.00451084413\n",
            "[Epoch:   18] cost = 0.0048788595\n",
            "[Epoch:   19] cost = 0.00479119457\n",
            "[Epoch:   20] cost = 0.00434465287\n",
            "[Epoch:   21] cost = 0.00342329848\n",
            "[Epoch:   22] cost = 0.000768102997\n",
            "[Epoch:   23] cost = 0.0046130768\n",
            "[Epoch:   24] cost = 0.00350973057\n",
            "[Epoch:   25] cost = 0.00411201874\n",
            "[Epoch:   26] cost = 0.00246764696\n",
            "[Epoch:   27] cost = 0.000993931782\n",
            "[Epoch:   28] cost = 0.00181870849\n",
            "[Epoch:   29] cost = 0.00356248929\n",
            "[Epoch:   30] cost = 0.00195541745\n",
            "[Epoch:   31] cost = 0.00294641033\n",
            "[Epoch:   32] cost = 0.00163079624\n",
            "[Epoch:   33] cost = 0.00016548112\n",
            "[Epoch:   34] cost = 0.000100399062\n",
            "[Epoch:   35] cost = 4.66384372e-05\n",
            "[Epoch:   36] cost = 2.09311038e-05\n",
            "[Epoch:   37] cost = 1.46291732e-05\n",
            "[Epoch:   38] cost = 1.17012414e-05\n",
            "[Epoch:   39] cost = 9.14487191e-06\n",
            "[Epoch:   40] cost = 7.5547191e-06\n",
            "[Epoch:   41] cost = 5.98362431e-06\n",
            "[Epoch:   42] cost = 4.69384577e-06\n",
            "[Epoch:   43] cost = 3.80009715e-06\n",
            "[Epoch:   44] cost = 2.98157192e-06\n",
            "[Epoch:   45] cost = 2.33528522e-06\n",
            "[Epoch:   46] cost = 0.00237859483\n",
            "[Epoch:   47] cost = 0.0100724427\n",
            "[Epoch:   48] cost = 0.00109222799\n",
            "[Epoch:   49] cost = 0.00101342797\n",
            "[Epoch:   50] cost = 0.000630829425\n",
            "[Epoch:   51] cost = 0.000117982774\n",
            "[Epoch:   52] cost = 2.96704511e-05\n",
            "[Epoch:   53] cost = 1.60502805e-05\n",
            "[Epoch:   54] cost = 1.17471409e-05\n",
            "[Epoch:   55] cost = 9.52096707e-06\n",
            "[Epoch:   56] cost = 7.47077775e-06\n",
            "[Epoch:   57] cost = 5.86507167e-06\n",
            "[Epoch:   58] cost = 4.7177632e-06\n",
            "[Epoch:   59] cost = 3.78851996e-06\n",
            "[Epoch:   60] cost = 3.07276377e-06\n",
            "[Epoch:   61] cost = 2.34139065e-06\n",
            "[Epoch:   62] cost = 1.75492244e-06\n",
            "[Epoch:   63] cost = 1.33237097e-06\n",
            "[Epoch:   64] cost = 9.92000082e-07\n",
            "[Epoch:   65] cost = 7.56584939e-07\n",
            "[Epoch:   66] cost = 5.98759186e-07\n",
            "[Epoch:   67] cost = 4.53320837e-07\n",
            "[Epoch:   68] cost = 3.30422324e-07\n",
            "[Epoch:   69] cost = 2.86019514e-07\n",
            "[Epoch:   70] cost = 2.20858922e-07\n",
            "[Epoch:   71] cost = 0.0104693351\n",
            "[Epoch:   72] cost = 0.00167698821\n",
            "[Epoch:   73] cost = 0.000797775865\n",
            "[Epoch:   74] cost = 0.000656585442\n",
            "[Epoch:   75] cost = 5.50999939e-05\n",
            "[Epoch:   76] cost = 1.32805762e-05\n",
            "[Epoch:   77] cost = 8.14274244e-06\n",
            "[Epoch:   78] cost = 6.47401248e-06\n",
            "[Epoch:   79] cost = 5.18656816e-06\n",
            "[Epoch:   80] cost = 4.28152043e-06\n",
            "[Epoch:   81] cost = 3.44658338e-06\n",
            "[Epoch:   82] cost = 2.78597031e-06\n",
            "[Epoch:   83] cost = 2.23888287e-06\n",
            "[Epoch:   84] cost = 1.80277118e-06\n",
            "[Epoch:   85] cost = 1.46407081e-06\n",
            "[Epoch:   86] cost = 1.1249283e-06\n",
            "[Epoch:   87] cost = 8.65298773e-07\n",
            "[Epoch:   88] cost = 6.80797882e-07\n",
            "[Epoch:   89] cost = 5.29365025e-07\n",
            "[Epoch:   90] cost = 4.00432782e-07\n",
            "[Epoch:   91] cost = 3.14612237e-07\n",
            "[Epoch:   92] cost = 2.40114957e-07\n",
            "[Epoch:   93] cost = 1.77516057e-07\n",
            "[Epoch:   94] cost = 1.37192345e-07\n",
            "[Epoch:   95] cost = 1.07070882e-07\n",
            "[Epoch:   96] cost = 8.55717275e-08\n",
            "[Epoch:   97] cost = 6.00632504e-08\n",
            "[Epoch:   98] cost = 4.77192685e-08\n",
            "[Epoch:   99] cost = 3.56275649e-08\n",
            "[Epoch:  100] cost = 2.69352487e-08\n"
          ]
        }
      ]
    },
    {
      "cell_type": "code",
      "source": [
        "with torch.no_grad():\n",
        "  x_test = mnist_test.test_data.view(len(mnist_test), 1, 28, 28).float().to(device)\n",
        "  y_test = mnist_test.test_labels.to(device)\n",
        "\n",
        "  prediction = model(x_test)\n",
        "  correct_prediction = torch.argmax(prediction, 1) == y_test\n",
        "  accuracy = correct_prediction.float().mean()\n",
        "  print('Accuracy:', accuracy.item())"
      ],
      "metadata": {
        "colab": {
          "base_uri": "https://localhost:8080/"
        },
        "id": "niDI3FspiCz_",
        "outputId": "f611cf01-228f-40c0-9512-5d14378d1601"
      },
      "execution_count": 11,
      "outputs": [
        {
          "output_type": "stream",
          "name": "stdout",
          "text": [
            "Accuracy: 0.9900999665260315\n"
          ]
        },
        {
          "output_type": "stream",
          "name": "stderr",
          "text": [
            "/usr/local/lib/python3.11/dist-packages/torchvision/datasets/mnist.py:81: UserWarning: test_data has been renamed data\n",
            "  warnings.warn(\"test_data has been renamed data\")\n",
            "/usr/local/lib/python3.11/dist-packages/torchvision/datasets/mnist.py:71: UserWarning: test_labels has been renamed targets\n",
            "  warnings.warn(\"test_labels has been renamed targets\")\n"
          ]
        }
      ]
    }
  ]
}